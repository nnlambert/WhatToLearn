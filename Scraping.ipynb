{
 "cells": [
  {
   "cell_type": "code",
   "execution_count": 13,
   "metadata": {},
   "outputs": [
    {
     "name": "stderr",
     "output_type": "stream",
     "text": [
      "/Users/nicholaslambert/opt/anaconda3/lib/python3.7/site-packages/ipykernel_launcher.py:15: DeprecationWarning: executable_path has been deprecated, please pass in a Service object\n",
      "  from ipykernel import kernelapp as app\n"
     ]
    }
   ],
   "source": [
    "# Importing necessary libraries to scrape\n",
    "from selenium import webdriver\n",
    "import pandas as pd\n",
    "import numpy as np\n",
    "import PIL              # for images\n",
    "import wordcloud        # ploting word cloud\n",
    "import requests         # grab web-page\n",
    "import pickle           # save file\n",
    "from bs4 import BeautifulSoup as bsopa  # parse web-page\n",
    "import datetime         # format date/time\n",
    "from collections import defaultdict\n",
    "import re               # regular expressions\n",
    "\n",
    "chrome_driver = \"path\\\\to\\\\chromedriver.exe\"\n",
    "driver = webdriver.Chrome(executable_path=chrome_driver)"
   ]
  },
  {
   "cell_type": "code",
   "execution_count": 17,
   "metadata": {},
   "outputs": [
    {
     "name": "stdout",
     "output_type": "stream",
     "text": [
      "Enter your Skill: data analyst\n",
      "Enter the location: california\n",
      "Enter the # of pages to scrape: 2\n"
     ]
    },
    {
     "ename": "NameError",
     "evalue": "name 'jobs' is not defined",
     "output_type": "error",
     "traceback": [
      "\u001b[0;31m---------------------------------------------------------------------------\u001b[0m",
      "\u001b[0;31mNameError\u001b[0m                                 Traceback (most recent call last)",
      "\u001b[0;32m<ipython-input-17-222244f2395d>\u001b[0m in \u001b[0;36m<module>\u001b[0;34m\u001b[0m\n\u001b[1;32m     56\u001b[0m         \u001b[0;31m# Put everything together in a list of lists for the default dictionary\u001b[0m\u001b[0;34m\u001b[0m\u001b[0;34m\u001b[0m\u001b[0;34m\u001b[0m\u001b[0m\n\u001b[1;32m     57\u001b[0m \u001b[0;34m\u001b[0m\u001b[0m\n\u001b[0;32m---> 58\u001b[0;31m             \u001b[0mindeed_posts\u001b[0m\u001b[0;34m.\u001b[0m\u001b[0mappend\u001b[0m\u001b[0;34m(\u001b[0m\u001b[0;34m[\u001b[0m\u001b[0mcompany\u001b[0m\u001b[0;34m,\u001b[0m\u001b[0mjobs\u001b[0m\u001b[0;34m,\u001b[0m\u001b[0mlinks\u001b[0m\u001b[0;34m,\u001b[0m\u001b[0msalary\u001b[0m\u001b[0;34m,\u001b[0m \u001b[0mpost_date\u001b[0m\u001b[0;34m]\u001b[0m\u001b[0;34m)\u001b[0m\u001b[0;34m\u001b[0m\u001b[0;34m\u001b[0m\u001b[0m\n\u001b[0m\u001b[1;32m     59\u001b[0m \u001b[0;34m\u001b[0m\u001b[0m\n\u001b[1;32m     60\u001b[0m \u001b[0;34m\u001b[0m\u001b[0m\n",
      "\u001b[0;31mNameError\u001b[0m: name 'jobs' is not defined"
     ]
    }
   ],
   "source": [
    "skill = input('Enter your Skill: ').strip()\n",
    "place = input('Enter the location: ').strip()\n",
    "no_of_pages = int(input('Enter the # of pages to scrape: '))\n",
    "indeed_posts=[]\n",
    "\n",
    "for page in range(no_of_pages):\n",
    "    \n",
    "    # Connecting to Indeed\n",
    "        target = 'https://www.indeed.com/jobs?q=' + skill + '&l=' + place + '&sort=date' +'&start='+ str(page * 10)\n",
    "        driver.get(target)\n",
    "        \n",
    "        # Get request to indeed with headers above (you don't need headers!)\n",
    "        '''response = requests.get(url)\n",
    "        html = response.text'''\n",
    "\n",
    "        # Scrapping the Web (you can use 'html' or 'lxml')\n",
    "        soup = bsopa(driver.page_source, \"html\")\n",
    "\n",
    "        # Outer Most Entry Point of HTML:\n",
    "        outer_most_point=soup.find('div',attrs={'id': 'mosaic-provider-jobcards'})\n",
    "        \n",
    "        # \"UL\" lists where the data are stored:\n",
    "\n",
    "        for i in outer_most_point.find('ul'):\n",
    "            \n",
    "        # Job Title:\n",
    "        \n",
    "            job_title=i.find('h2',{'class':'jobTitle jobTitle-color-purple jobTitle-newJob'})\n",
    "#             print(job_title)\n",
    "            if job_title != None:\n",
    "                jobs=job_title.find('a').text\n",
    "\n",
    "        # Company Name:\n",
    "    \n",
    "            if i.find('span',{'class':'companyName'}) != None:\n",
    "                company=i.find('span',{'class':'companyName'}).text   \n",
    "                \n",
    "        # Links: these Href links will take us to full job description\n",
    "        \n",
    "            if i.find('a') != None:\n",
    "                links=i.find('a',{'class':'jcs-JobTitle'})['href']\n",
    "                \n",
    "        # Salary if available:\n",
    "        \n",
    "            if i.find('div',{'class':'attribute_snippet'}) != None:\n",
    "                salary=i.find('div',{'class':'attribute_snippet'}).text\n",
    "\n",
    "            else:\n",
    "                salary='No Salary'\n",
    "\n",
    "        # Job Post Date:\n",
    "\n",
    "            if i.find('span', attrs={'class': 'date'}) != None:\n",
    "                post_date = i.find('span', attrs={'class': 'date'}).text\n",
    "\n",
    "        # Put everything together in a list of lists for the default dictionary\n",
    "                        \n",
    "            indeed_posts.append([company,jobs,links,salary, post_date])\n",
    "            \n",
    "            \n",
    "# put together in list\n",
    "\n",
    "# (create a dictionary with keys and a list of values from above \"indeed_posts\")\n",
    "\n",
    "indeed_dict_list=defaultdict(list)\n",
    "\n",
    "# Fields for our DF \n",
    "\n",
    "indeed_spec=['Company','job','link','Salary','Job_Posted_Date']\n"
   ]
  },
  {
   "cell_type": "code",
   "execution_count": null,
   "metadata": {},
   "outputs": [],
   "source": []
  },
  {
   "cell_type": "code",
   "execution_count": null,
   "metadata": {},
   "outputs": [],
   "source": []
  }
 ],
 "metadata": {
  "kernelspec": {
   "display_name": "Python 3",
   "language": "python",
   "name": "python3"
  },
  "language_info": {
   "codemirror_mode": {
    "name": "ipython",
    "version": 3
   },
   "file_extension": ".py",
   "mimetype": "text/x-python",
   "name": "python",
   "nbconvert_exporter": "python",
   "pygments_lexer": "ipython3",
   "version": "3.7.6"
  }
 },
 "nbformat": 4,
 "nbformat_minor": 4
}
