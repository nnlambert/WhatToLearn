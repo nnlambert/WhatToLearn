{
 "cells": [
  {
   "cell_type": "code",
   "execution_count": 13,
   "metadata": {},
   "outputs": [
   "source": [
    "from bs4 import BeautifulSoup"
    "        # Put everything together in a list of lists for the default dictionary\n",
    "                        \n",
    "            indeed_posts.append([company,jobs,links,salary, post_date])\n",
    "            \n",
    "            \n",
    "# put together in list\n",
    "\n",
    "# (create a dictionary with keys and a list of values from above \"indeed_posts\")\n",
    "\n",
    "indeed_dict_list=defaultdict(list)\n",
    "\n",
    "# Fields for our DF \n",
    "\n",
    "indeed_spec=['Company','job','link','Salary','Job_Posted_Date']\n"
   ]
  },
  {
   "cell_type": "code",
   "execution_count": null,
   "metadata": {},
   "outputs": [],
   "source": []
  },
  {
   "cell_type": "code",
   "execution_count": null,
   "metadata": {},
   "outputs": [],
   "source": []
  }
 ],
 "metadata": {
  "kernelspec": {
   "display_name": "Python 3",
   "language": "python",
   "name": "python3"
  },
  "language_info": {
   "codemirror_mode": {
    "name": "ipython",
    "version": 3
   },
   "file_extension": ".py",
   "mimetype": "text/x-python",
   "name": "python",
   "nbconvert_exporter": "python",
   "pygments_lexer": "ipython3",
   "version": "3.7.6"
  }
 },
 "nbformat": 4,
 "nbformat_minor": 4
}
